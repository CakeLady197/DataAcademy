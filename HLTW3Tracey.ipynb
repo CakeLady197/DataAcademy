{
 "cells": [
  {
   "cell_type": "code",
   "execution_count": 12,
   "metadata": {},
   "outputs": [],
   "source": [
    "myList = [\"3\",\"45\",\"83\",\"21\"]\n",
    "myFile = open(\"numbers.txt\", \"w\")\n",
    "\n",
    "for i in range(len(myList)):\n",
    "    myFile.write(str(myList))\n",
    "    myFile.write(\"\\n\")\n",
    "\n",
    "myFile.close()\n",
    "\n"
   ]
  },
  {
   "cell_type": "code",
   "execution_count": 15,
   "metadata": {},
   "outputs": [
    {
     "name": "stdout",
     "output_type": "stream",
     "text": [
      "You failed this subject\n"
     ]
    }
   ],
   "source": [
    "exGrade = int(input(\"what percent did you get \"))\n",
    "\n",
    "def markGrade():\n",
    "    if exGrade >= 90:\n",
    "        output = \"Your grade is A\"\n",
    "        return output\n",
    "    elif exGrade >= 80:\n",
    "        output = \"Your grade is B\"\n",
    "        return output\n",
    "    elif exGrade >= 70:\n",
    "        output = \"Your grade is C\"\n",
    "        return output\n",
    "    elif exGrade >= 60:\n",
    "        output = \"Your grade is D\"\n",
    "        return output\n",
    "    else:\n",
    "        output = \"You failed this subject\"\n",
    "        return output\n",
    "\n",
    "\n",
    "message = markGrade()\n",
    "print(message)\n",
    "\n"
   ]
  },
  {
   "cell_type": "code",
   "execution_count": 16,
   "metadata": {},
   "outputs": [
    {
     "name": "stdout",
     "output_type": "stream",
     "text": [
      "Come and talk to me about your result\n"
     ]
    }
   ],
   "source": [
    "exGrade = int(input(\"what percent did you get? \"))\n",
    "tarGrade = int(input(\"What was your target grade? \" ))\n",
    "\n",
    "def markGrade():\n",
    "    if exGrade == tarGrade:\n",
    "        output = \"Well done you hit your target\"\n",
    "        return output\n",
    "    elif exGrade > tarGrade:\n",
    "        output = \"Well done you passed your target\"\n",
    "        return output\n",
    "    elif exGrade < tarGrade:\n",
    "        output = \"Come and talk to me about your result\"\n",
    "        return output\n",
    "    \n",
    "\n",
    "\n",
    "message = markGrade()\n",
    "print(message)"
   ]
  }
 ],
 "metadata": {
  "interpreter": {
   "hash": "891b47d450e60936d708b200ebd910414469182e07031906ee92fae630b03d1d"
  },
  "kernelspec": {
   "display_name": "Python 3.9.7 64-bit",
   "language": "python",
   "name": "python3"
  },
  "language_info": {
   "codemirror_mode": {
    "name": "ipython",
    "version": 3
   },
   "file_extension": ".py",
   "mimetype": "text/x-python",
   "name": "python",
   "nbconvert_exporter": "python",
   "pygments_lexer": "ipython3",
   "version": "3.9.7"
  },
  "orig_nbformat": 4
 },
 "nbformat": 4,
 "nbformat_minor": 2
}
