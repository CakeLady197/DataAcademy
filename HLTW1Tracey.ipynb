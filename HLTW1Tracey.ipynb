{
 "cells": [
  {
   "cell_type": "code",
   "execution_count": 5,
   "metadata": {},
   "outputs": [
    {
     "name": "stdout",
     "output_type": "stream",
     "text": [
      "Try again, you guessed the wrong number\n"
     ]
    }
   ],
   "source": [
    "# task 1 - see if the user can guess a random number \n",
    "\n",
    "import random\n",
    "mynum = random.randint(1, 10)\n",
    "\n",
    "usrInput = int(input(\"Enter a number between 1 - 10 :- \"))\n",
    "\n",
    "if usrInput == mynum:\n",
    "    print(\"Woohoo you guessed the right number\")\n",
    "else:\n",
    "    print(\"Try again, you guessed the wrong number\")\n",
    "\n",
    "\n"
   ]
  },
  {
   "cell_type": "code",
   "execution_count": 11,
   "metadata": {},
   "outputs": [
    {
     "name": "stdout",
     "output_type": "stream",
     "text": [
      "I was wondering why the ball was getting bigger. Then it hit me\n"
     ]
    }
   ],
   "source": [
    "# task 2 - print a joke for different age groups\n",
    "\n",
    "favNum = int(input(\"Enter you favourite number between 1 - 100 :- \"))\n",
    "\n",
    "if favNum >= 66:\n",
    "    print(\"Two windmills are standing in a wind farm. One asks, What’s your favourite kind of music? The other says, I’m a big metal fan\")\n",
    "elif favNum >= 33:\n",
    "    print(\"It's hard to explain puns to kleptomaniacs because they always take things literally\")\n",
    "else:\n",
    "    print(\"I was wondering why the ball was getting bigger. Then it hit me\")"
   ]
  },
  {
   "cell_type": "code",
   "execution_count": 12,
   "metadata": {},
   "outputs": [
    {
     "name": "stdout",
     "output_type": "stream",
     "text": [
      "Your favourite meal is  calamari  followed by  fish and chips  and  lemon cake  with a glass of  grape juice\n"
     ]
    }
   ],
   "source": [
    "# task 3 - display users choice in a sentence\n",
    "\n",
    "favStart = input(\"Enter your favourite starter \")\n",
    "favMain = input(\"Enter your favourite main course \")\n",
    "favDes = input(\"Enter your favourite dessert \")\n",
    "favDrink = input(\"Enter your favourite drink \")\n",
    "print(\"Your favourite meal is \", favStart, \" followed by \", favMain, \" and \", favDes, \" with a glass of \", favDrink)\n",
    "\n"
   ]
  },
  {
   "cell_type": "code",
   "execution_count": 10,
   "metadata": {},
   "outputs": [
    {
     "name": "stdout",
     "output_type": "stream",
     "text": [
      "The bike is worth  1800.0\n",
      "The bike is worth  1620.0\n",
      "The bike is worth  1458.0\n",
      "The bike is worth  1312.2\n",
      "The bike is worth  1180.98\n",
      "The bike is worth  1062.882\n"
     ]
    }
   ],
   "source": [
    "# task 4 - show annual depreciation of bike\n",
    "\n",
    "bikeVal = 2000\n",
    "deprecVal = bikeVal - (bikeVal * 0.1)\n",
    "\n",
    "while deprecVal > 1000:\n",
    "    print(\"The bike is worth \", deprecVal)\n",
    "    deprecVal = deprecVal - (deprecVal * 0.1)\n",
    "\n",
    "    "
   ]
  },
  {
   "cell_type": "code",
   "execution_count": 14,
   "metadata": {},
   "outputs": [
    {
     "name": "stdout",
     "output_type": "stream",
     "text": [
      "100   400\n"
     ]
    }
   ],
   "source": [
    "# task 5\n",
    "\n",
    "numOne = int(input(\"Enter your first number \"))\n",
    "numTwo = int(input(\"Enter your second number \"))\n",
    "\n",
    "func = input(\"If you want to add type a, to subtract type b, to divide type d, to multipy type m  and to square type s\")\n",
    "\n",
    "if func == \"a\":\n",
    "    print(numOne + numTwo)\n",
    "elif func == \"b\":\n",
    "    print(numOne - numTwo)\n",
    "elif func == \"d\":\n",
    "    print(numOne / numTwo)\n",
    "elif func == \"m\":\n",
    "    print(numOne * numTwo)\n",
    "elif func == \"s\":\n",
    "    print(numOne*numOne, \" \", numTwo*numTwo)\n",
    "else:\n",
    "    print(\"Please choose a function\")"
   ]
  }
 ],
 "metadata": {
  "interpreter": {
   "hash": "891b47d450e60936d708b200ebd910414469182e07031906ee92fae630b03d1d"
  },
  "kernelspec": {
   "display_name": "Python 3.9.7 64-bit",
   "language": "python",
   "name": "python3"
  },
  "language_info": {
   "codemirror_mode": {
    "name": "ipython",
    "version": 3
   },
   "file_extension": ".py",
   "mimetype": "text/x-python",
   "name": "python",
   "nbconvert_exporter": "python",
   "pygments_lexer": "ipython3",
   "version": "3.9.7"
  },
  "orig_nbformat": 4
 },
 "nbformat": 4,
 "nbformat_minor": 2
}
