{
 "cells": [
  {
   "cell_type": "code",
   "execution_count": 1,
   "metadata": {},
   "outputs": [
    {
     "name": "stdout",
     "output_type": "stream",
     "text": [
      "[0 1 2 3 4 5 6 7 8 9]\n"
     ]
    }
   ],
   "source": [
    "# 1D array of numbers 1-10\n",
    "import numpy as np\n",
    "\n",
    "array = np.array([0,1,2,3,4,5,6,7,8,9])\n",
    "\n",
    "print(array)"
   ]
  },
  {
   "cell_type": "code",
   "execution_count": 26,
   "metadata": {},
   "outputs": [
    {
     "name": "stdout",
     "output_type": "stream",
     "text": [
      "[[1. 1. 1.]\n",
      " [1. 1. 1.]\n",
      " [1. 1. 1.]]\n"
     ]
    }
   ],
   "source": [
    "# 33×3 NumPy array of all Boolean value Trues\n",
    "import numpy as np\n",
    "ones = np.ones(9)\n",
    "\n",
    "newArray = ones.reshape(3,3)\n",
    "\n",
    "print(newArray)\n"
   ]
  },
  {
   "cell_type": "code",
   "execution_count": 51,
   "metadata": {},
   "outputs": [
    {
     "name": "stdout",
     "output_type": "stream",
     "text": [
      "[1 3 5 7 9]\n"
     ]
    }
   ],
   "source": [
    "# Extract all odd numbers from array of 1 - 10\n",
    "import numpy as np\n",
    "\n",
    "array1 = np.arange(1,11)\n",
    "\n",
    "arrayOdd = array1[array%2==1]\n",
    "\n",
    "print(arrayOdd)\n",
    "\n",
    "\n",
    "\n",
    "\n",
    "\n",
    "\n"
   ]
  },
  {
   "cell_type": "code",
   "execution_count": 53,
   "metadata": {},
   "outputs": [
    {
     "name": "stdout",
     "output_type": "stream",
     "text": [
      "[-1  2 -1  4 -1  6 -1  8 -1 10]\n"
     ]
    }
   ],
   "source": [
    "# Replace all odd numbers in an array of 1 10 with the value 1\n",
    "import numpy as np\n",
    "\n",
    "array1 = np.arange(1,11)\n",
    "arrayNew = np.where(array1%2==1, -1, array1)\n",
    "\n",
    "print(arrayNew)\n",
    "\n"
   ]
  },
  {
   "cell_type": "code",
   "execution_count": 54,
   "metadata": {},
   "outputs": [
    {
     "name": "stdout",
     "output_type": "stream",
     "text": [
      "[[0 1 2 3 4]\n",
      " [5 6 7 8 9]]\n"
     ]
    }
   ],
   "source": [
    "# Convert a 1D array to a 2D array with 2 rows\n",
    "\n",
    "import numpy as np\n",
    "\n",
    "array = np.array([0,1,2,3,4,5,6,7,8,9])\n",
    "\n",
    "arrayShape = array.reshape(2,5)\n",
    "\n",
    "print(arrayShape)\n",
    "\n",
    "\n"
   ]
  },
  {
   "cell_type": "code",
   "execution_count": 59,
   "metadata": {},
   "outputs": [
    {
     "name": "stdout",
     "output_type": "stream",
     "text": [
      "[[1 2 3 4]\n",
      " [5 6 7 8]]\n",
      "70\n",
      "36\n"
     ]
    }
   ],
   "source": [
    "# Create two arrays a and b, stack these two arrays vertically use the np.dot and\n",
    "# np.sum to calculate totals\n",
    "\n",
    "import numpy as np\n",
    "\n",
    "array1 = np.array([1,2,3,4])\n",
    "array2 = np.array([5,6,7,8])\n",
    "\n",
    "arVstack = np.vstack((array1, array2))\n",
    "\n",
    "print(arVstack)\n",
    "\n",
    "c = np.dot(array1, array2)\n",
    "print(c)\n",
    "\n",
    "d = np.sum(arVstack)\n",
    "print(d)\n",
    "\n",
    "\n"
   ]
  },
  {
   "cell_type": "code",
   "execution_count": null,
   "metadata": {},
   "outputs": [],
   "source": [
    "# In two arrays a (1,2,3,4,5) and b (4,5,6,7,8,9) remove all repeating items present in array b\n",
    "\n",
    "import numpy as np\n",
    "\n",
    "a = np.array([1,2,3,4,5])\n",
    "b = np.array([4,5,6,7,8,9])\n",
    "\n",
    "\n"
   ]
  }
 ],
 "metadata": {
  "interpreter": {
   "hash": "891b47d450e60936d708b200ebd910414469182e07031906ee92fae630b03d1d"
  },
  "kernelspec": {
   "display_name": "Python 3.9.7 64-bit",
   "language": "python",
   "name": "python3"
  },
  "language_info": {
   "codemirror_mode": {
    "name": "ipython",
    "version": 3
   },
   "file_extension": ".py",
   "mimetype": "text/x-python",
   "name": "python",
   "nbconvert_exporter": "python",
   "pygments_lexer": "ipython3",
   "version": "3.10.1"
  },
  "orig_nbformat": 4
 },
 "nbformat": 4,
 "nbformat_minor": 2
}
