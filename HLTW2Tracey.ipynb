{
 "cells": [
  {
   "cell_type": "code",
   "execution_count": 11,
   "metadata": {},
   "outputs": [
    {
     "name": "stdout",
     "output_type": "stream",
     "text": [
      "Have a nice day\n",
      "None\n"
     ]
    }
   ],
   "source": [
    "\n",
    "usrInMain = input(\"What would you like to order? \")\n",
    "usrAddside = input(\"Would you like add a side order, enter y or n \")\n",
    "\n",
    "def meal():\n",
    "    if usrAddside == \"n\":\n",
    "        output = \"Your order is a \" + usrInMain\n",
    "        return output\n",
    "    elif usrAddside ==\"y\":\n",
    "        usrSideord = input(\"What side would you like? \")\n",
    "        usrAdddrink = input(\"Would you like to add a drink to your order, enter y or n \")\n",
    "        if usrAdddrink == \"n\":\n",
    "            output = \"Your order is a \" + usrInMain + \" and \" + usrSideord\n",
    "            return output\n",
    "        elif usrAdddrink == \"y\":\n",
    "            usrDrinkord = input(\"What drink would you like? \")\n",
    "            output = \"Your order is a \" + usrInMain + \" with a side order of \" + usrSideord + \" and \" + usrDrinkord\n",
    "            return output\n",
    "    else:\n",
    "        print(\"Have a nice day\")\n",
    "\n",
    "\n",
    "message = meal()\n",
    "print (message)\n",
    "\n",
    "  \n"
   ]
  },
  {
   "cell_type": "code",
   "execution_count": null,
   "metadata": {},
   "outputs": [],
   "source": []
  },
  {
   "cell_type": "code",
   "execution_count": 23,
   "metadata": {},
   "outputs": [
    {
     "ename": "TypeError",
     "evalue": "can only concatenate str (not \"int\") to str",
     "output_type": "error",
     "traceback": [
      "\u001b[1;31m---------------------------------------------------------------------------\u001b[0m",
      "\u001b[1;31mTypeError\u001b[0m                                 Traceback (most recent call last)",
      "\u001b[1;32m~\\AppData\\Local\\Temp/ipykernel_9064/3461674786.py\u001b[0m in \u001b[0;36m<module>\u001b[1;34m\u001b[0m\n\u001b[0;32m      9\u001b[0m \u001b[1;33m\u001b[0m\u001b[0m\n\u001b[0;32m     10\u001b[0m \u001b[1;33m\u001b[0m\u001b[0m\n\u001b[1;32m---> 11\u001b[1;33m \u001b[0mstatement\u001b[0m \u001b[1;33m=\u001b[0m \u001b[0mbikeDeprec\u001b[0m\u001b[1;33m(\u001b[0m\u001b[0myear\u001b[0m\u001b[1;33m,\u001b[0m\u001b[0mdeprecVal\u001b[0m\u001b[1;33m)\u001b[0m\u001b[1;33m\u001b[0m\u001b[1;33m\u001b[0m\u001b[0m\n\u001b[0m\u001b[0;32m     12\u001b[0m \u001b[0mprint\u001b[0m\u001b[1;33m(\u001b[0m\u001b[0mstatement\u001b[0m\u001b[1;33m)\u001b[0m\u001b[1;33m\u001b[0m\u001b[1;33m\u001b[0m\u001b[0m\n",
      "\u001b[1;32m~\\AppData\\Local\\Temp/ipykernel_9064/3461674786.py\u001b[0m in \u001b[0;36mbikeDeprec\u001b[1;34m(year, deprecVal)\u001b[0m\n\u001b[0;32m      5\u001b[0m \u001b[1;32mdef\u001b[0m \u001b[0mbikeDeprec\u001b[0m\u001b[1;33m(\u001b[0m\u001b[0myear\u001b[0m\u001b[1;33m,\u001b[0m \u001b[0mdeprecVal\u001b[0m\u001b[1;33m)\u001b[0m\u001b[1;33m:\u001b[0m\u001b[1;33m\u001b[0m\u001b[1;33m\u001b[0m\u001b[0m\n\u001b[0;32m      6\u001b[0m     \u001b[1;32mwhile\u001b[0m \u001b[0mdeprecVal\u001b[0m \u001b[1;33m>\u001b[0m \u001b[1;36m1000\u001b[0m\u001b[1;33m:\u001b[0m\u001b[1;33m\u001b[0m\u001b[1;33m\u001b[0m\u001b[0m\n\u001b[1;32m----> 7\u001b[1;33m         \u001b[0mprint\u001b[0m\u001b[1;33m(\u001b[0m\u001b[1;34m\"For \"\u001b[0m \u001b[1;33m+\u001b[0m \u001b[0myear\u001b[0m \u001b[1;33m+\u001b[0m \u001b[1;36m1\u001b[0m \u001b[1;33m+\u001b[0m \u001b[1;34m\" the bike is worth £\"\u001b[0m \u001b[1;33m+\u001b[0m \u001b[0mdeprecVal\u001b[0m\u001b[1;33m)\u001b[0m\u001b[1;33m\u001b[0m\u001b[1;33m\u001b[0m\u001b[0m\n\u001b[0m\u001b[0;32m      8\u001b[0m         \u001b[0mdeprecVal\u001b[0m \u001b[1;33m=\u001b[0m \u001b[0mdeprecVal\u001b[0m \u001b[1;33m-\u001b[0m \u001b[1;33m(\u001b[0m\u001b[0mdeprecVal\u001b[0m \u001b[1;33m*\u001b[0m \u001b[1;36m0.1\u001b[0m\u001b[1;33m)\u001b[0m\u001b[1;33m\u001b[0m\u001b[1;33m\u001b[0m\u001b[0m\n\u001b[0;32m      9\u001b[0m \u001b[1;33m\u001b[0m\u001b[0m\n",
      "\u001b[1;31mTypeError\u001b[0m: can only concatenate str (not \"int\") to str"
     ]
    }
   ],
   "source": [
    "bikeVal = 2000\n",
    "year = 2021\n",
    "deprecVal = bikeVal - (bikeVal * 0.1)\n",
    "\n",
    "def bikeDeprec(year, deprecVal):\n",
    "    while deprecVal > 1000:\n",
    "        print(\"For \" + year + 1 + \" the bike is worth £\" + deprecVal)\n",
    "        deprecVal = deprecVal - (deprecVal * 0.1)\n",
    "       \n",
    "\n",
    "statement = bikeDeprec(year,deprecVal)\n",
    "print(statement)\n"
   ]
  },
  {
   "cell_type": "code",
   "execution_count": 29,
   "metadata": {},
   "outputs": [
    {
     "name": "stdout",
     "output_type": "stream",
     "text": [
      "The operator is missing\n"
     ]
    }
   ],
   "source": [
    "firstNum = int(input(\"Enter your first number \"))\n",
    "secNum = int(input(\"Enter your second number \"))\n",
    "calcOp = input(\"to add the numbers type +, to multiple type *, to subtract type -, to divide type /\")\n",
    "\n",
    "def doMath(firstNum,secNum):\n",
    "    if calcOp == \"+\" :\n",
    "        print(firstNum + secNum)\n",
    "    elif calcOp == \"*\" :\n",
    "        print(firstNum * secNum)\n",
    "    elif calcOp == \"-\":\n",
    "        print(firstNum - secNum)\n",
    "    elif calcOp == \"/\":\n",
    "        print(firstNum / secNum)\n",
    "    else:\n",
    "        print(\"The operator is missing\")        \n",
    "\n",
    "\n",
    "doMath(firstNum,secNum)\n"
   ]
  }
 ],
 "metadata": {
  "interpreter": {
   "hash": "891b47d450e60936d708b200ebd910414469182e07031906ee92fae630b03d1d"
  },
  "kernelspec": {
   "display_name": "Python 3.9.7 64-bit",
   "language": "python",
   "name": "python3"
  },
  "language_info": {
   "codemirror_mode": {
    "name": "ipython",
    "version": 3
   },
   "file_extension": ".py",
   "mimetype": "text/x-python",
   "name": "python",
   "nbconvert_exporter": "python",
   "pygments_lexer": "ipython3",
   "version": "3.9.7"
  },
  "orig_nbformat": 4
 },
 "nbformat": 4,
 "nbformat_minor": 2
}
